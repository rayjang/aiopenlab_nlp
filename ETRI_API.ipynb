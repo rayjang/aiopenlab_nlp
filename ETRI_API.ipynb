{
 "cells": [
  {
   "cell_type": "code",
   "execution_count": 1,
   "id": "b6cce581-130d-484e-b839-73702509d638",
   "metadata": {},
   "outputs": [],
   "source": [
    "#-*- coding:utf-8 -*-\n",
    "import urllib3\n",
    "import json\n",
    "import pickle"
   ]
  },
  {
   "cell_type": "code",
   "execution_count": 2,
   "id": "7c6f3d71-f619-4296-aec2-22fd628f60f4",
   "metadata": {
    "tags": []
   },
   "outputs": [],
   "source": [
    "def etri(text): \n",
    "    openApiURL = \"http://aiopen.etri.re.kr:8000/WiseNLU\" \n",
    "\n",
    "    accessKey = \"accessKey\"\n",
    "    analysisCode = \"ner\"\n",
    "  \n",
    "    requestJson = {\n",
    "        \"access_key\": accessKey,\n",
    "        \"argument\": {\n",
    "            \"text\": text,\n",
    "            \"analysis_code\": analysisCode\n",
    "        }\n",
    "    }\n",
    "\n",
    "    http = urllib3.PoolManager()\n",
    "    response = http.request(\n",
    "        \"POST\",\n",
    "        openApiURL,\n",
    "        headers={\"Content-Type\": \"application/json; charset=UTF-8\"},\n",
    "        body=json.dumps(requestJson)\n",
    "    )\n",
    "    output = eval(str(response.data,\"utf-8\"))\n",
    "    return output\n",
    "    "
   ]
  },
  {
   "cell_type": "code",
   "execution_count": 3,
   "id": "93a74c17-72ad-4e40-b9b0-5a8b6380c362",
   "metadata": {
    "tags": []
   },
   "outputs": [],
   "source": [
    "text_list = []\n",
    "per_list = []\n",
    "org_list = []\n",
    "\n",
    "with open('./full_text.txt', 'r') as f:\n",
    "    while True:\n",
    "        text = f.read(9500) # etri max input size: 10,000\n",
    "        if not text:\n",
    "            break\n",
    "        output = etri(text)\n",
    "\n",
    "        for o in output['return_object']['sentence']:\n",
    "            text_list.append(o['text'])\n",
    "\n",
    "            txt_output = open('./text_list5.txt', 'a')\n",
    "            txt_output.write(f\" \\'{o['text']}\\',\")\n",
    "            txt_output.close()\n",
    "\n",
    "            nes = o['NE']\n",
    "            tmp_per = []\n",
    "            tmp_org = []\n",
    "            for ne in nes:\n",
    "                if ne['type'] == 'PS_NAME':\n",
    "                    tmp_per.append(ne['text'])\n",
    "                # elif 'OG' in ne['type']: # all organization\n",
    "                elif ne['type'] == 'OGG_ECONOMY': # company name\n",
    "                    tmp_org.append(ne['text'])\n",
    "            per_list.append(tmp_per)\n",
    "            org_list.append(tmp_org)\n",
    "\n",
    "\n",
    "with open('text_list.pickle', 'wb') as f:\n",
    "    pickle.dump(text_list, f, pickle.HIGHEST_PROTOCOL)\n",
    "with open('per_list.pickle', 'wb') as f:\n",
    "    pickle.dump(per_list, f, pickle.HIGHEST_PROTOCOL)\n",
    "with open('org_list.pickle', 'wb') as f:\n",
    "    pickle.dump(org_list, f, pickle.HIGHEST_PROTOCOL)"
   ]
  },
  {
   "cell_type": "code",
   "execution_count": null,
   "id": "acb9dc75-e4ee-4489-b435-c5e851c66d95",
   "metadata": {},
   "outputs": [],
   "source": [
    "# Save entities(person, organizaiton) predicted by ETRI api \n",
    "persons = [p.replace(\" \", \"\") for p in persons]\n",
    "persons = [p for p in persons if len(p)==3 or len(p)==2]\n",
    "pd.Series(persons).to_csv('./etri_per_pred.csv', encoding='utf-8')\n",
    "\n",
    "organizations = list(set([org for sublist in org_list for org in sublist]))\n",
    "pd.Series(organizations).to_csv('./etri_org_pred.csv', encoding='utf-8')"
   ]
  },
  {
   "cell_type": "code",
   "execution_count": 16,
   "id": "e4f9223d-d127-472e-b09b-d32437321b1e",
   "metadata": {
    "tags": []
   },
   "outputs": [
    {
     "data": {
      "text/html": [
       "<div>\n",
       "<style scoped>\n",
       "    .dataframe tbody tr th:only-of-type {\n",
       "        vertical-align: middle;\n",
       "    }\n",
       "\n",
       "    .dataframe tbody tr th {\n",
       "        vertical-align: top;\n",
       "    }\n",
       "\n",
       "    .dataframe thead th {\n",
       "        text-align: right;\n",
       "    }\n",
       "</style>\n",
       "<table border=\"1\" class=\"dataframe\">\n",
       "  <thead>\n",
       "    <tr style=\"text-align: right;\">\n",
       "      <th></th>\n",
       "      <th>text</th>\n",
       "      <th>answer</th>\n",
       "    </tr>\n",
       "  </thead>\n",
       "  <tbody>\n",
       "    <tr>\n",
       "      <th>0</th>\n",
       "      <td>질석을 주원료로 하는 퇴비부숙제가 비료관리법상의 비료에 해당하는지 여부.</td>\n",
       "      <td>O O O O O O O O</td>\n",
       "    </tr>\n",
       "    <tr>\n",
       "      <th>1</th>\n",
       "      <td>신호등에 따라 교차로를 진행하는 차량 운전자에게 다른 차량이 신호를 위반하여 진행...</td>\n",
       "      <td>O O O O O O O O O O O O O O O O O O O O O O O ...</td>\n",
       "    </tr>\n",
       "    <tr>\n",
       "      <th>2</th>\n",
       "      <td>그리고 그 위임에 따른 구 간접투자법 시행령 제38조 제2항도 수익자총회의 의결을...</td>\n",
       "      <td>O O O O O O O O O O O O O O O O O O O O O O O</td>\n",
       "    </tr>\n",
       "    <tr>\n",
       "      <th>3</th>\n",
       "      <td>행정청이 처분을 함에 있어 행정절차법 제23조 제1항, 제24조 제1항 소정의 이...</td>\n",
       "      <td>O O O O O O O O O O O O O O O O O O O O O O O ...</td>\n",
       "    </tr>\n",
       "  </tbody>\n",
       "</table>\n",
       "</div>"
      ],
      "text/plain": [
       "                                                text  \\\n",
       "0           질석을 주원료로 하는 퇴비부숙제가 비료관리법상의 비료에 해당하는지 여부.   \n",
       "1   신호등에 따라 교차로를 진행하는 차량 운전자에게 다른 차량이 신호를 위반하여 진행...   \n",
       "2   그리고 그 위임에 따른 구 간접투자법 시행령 제38조 제2항도 수익자총회의 의결을...   \n",
       "3   행정청이 처분을 함에 있어 행정절차법 제23조 제1항, 제24조 제1항 소정의 이...   \n",
       "\n",
       "                                              answer  \n",
       "0                                    O O O O O O O O  \n",
       "1  O O O O O O O O O O O O O O O O O O O O O O O ...  \n",
       "2      O O O O O O O O O O O O O O O O O O O O O O O  \n",
       "3  O O O O O O O O O O O O O O O O O O O O O O O ...  "
      ]
     },
     "execution_count": 16,
     "metadata": {},
     "output_type": "execute_result"
    }
   ],
   "source": [
    "# make pseudo-labeled training data by using predictions of ETRI API\n",
    "import pandas as pd\n",
    "answers = []\n",
    "# for i in [39]:\n",
    "for i in range(len(text_list)):\n",
    "    text_splitted = text_list[i].split()\n",
    "    org = org_list[i]\n",
    "    per = per_list[i]\n",
    "    answer = ['O' for _ in range(len(text_splitted))]\n",
    "    for idx, t in enumerate(text_splitted):\n",
    "        for o in org:\n",
    "            if o in t:\n",
    "                answer[idx] = 'ORG-B'\n",
    "        for p in per:\n",
    "            if p in t:\n",
    "                answer[idx] = 'PER-B'\n",
    "    _answer = ' '.join(answer)\n",
    "    answers.append(_answer)\n",
    "\n",
    "    \n",
    "data_tuples = list(zip(text_list,answers))\n",
    "data = pd.DataFrame(data_tuples, columns=['text','answer'])\n",
    "data.to_csv('./naver_format_etri_1102.tsv', encoding='utf-8',index=False, header=False, sep ='\\t')\n",
    "data.head(4)"
   ]
  }
 ],
 "metadata": {
  "kernelspec": {
   "display_name": "Python 3 (ipykernel)",
   "language": "python",
   "name": "python3"
  },
  "language_info": {
   "codemirror_mode": {
    "name": "ipython",
    "version": 3
   },
   "file_extension": ".py",
   "mimetype": "text/x-python",
   "name": "python",
   "nbconvert_exporter": "python",
   "pygments_lexer": "ipython3",
   "version": "3.8.13"
  }
 },
 "nbformat": 4,
 "nbformat_minor": 5
}
