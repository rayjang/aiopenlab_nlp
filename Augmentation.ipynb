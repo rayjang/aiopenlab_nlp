{
 "cells": [
  {
   "cell_type": "code",
   "execution_count": 65,
   "id": "af6ed9ba-5dfb-49ad-92c5-65b7831cd89e",
   "metadata": {},
   "outputs": [],
   "source": [
    "from kiwipiepy import Kiwi\n",
    "import pandas as pd\n",
    "kiwi = Kiwi()\n",
    "\n",
    "exclusion_tags = ['JKS','JKC','JKG','JKO','JKB','JKV','JKQ','JX','JC']\n",
    "f = lambda x: x in exclusion_tags\n"
   ]
  },
  {
   "cell_type": "code",
   "execution_count": 76,
   "id": "1948e483-2c71-49ab-a143-87e4b3eb69b9",
   "metadata": {},
   "outputs": [],
   "source": [
    "# load Pseudo labled data\n",
    "text_list = []\n",
    "label_list = []\n",
    "for i in train.index:\n",
    "    if \"ORG\" in train.loc[i,1] or \"PER\" in train.loc[i,1]:\n",
    "        text_list.append(train.loc[i,0])\n",
    "        label_list.append(train.loc[i,1])"
   ]
  },
  {
   "cell_type": "code",
   "execution_count": 77,
   "id": "0451b21f-dd07-4390-920c-869383fa2e4a",
   "metadata": {},
   "outputs": [],
   "source": [
    "new = pd.DataFrame({\"text\":text_list, \"label\":label_list})\n",
    "new.to_csv('./data/new1315.tsv',sep='\\t', header=None, index=False)"
   ]
  },
  {
   "cell_type": "code",
   "execution_count": null,
   "id": "b379964e-f693-4ad7-abb2-997fbf9bd631",
   "metadata": {},
   "outputs": [],
   "source": [
    "# read Naver NER datasets\n",
    "naver = pd.read_csv('./original/KoBERT-NER/data/train.tsv', sep='\\t', header=None)"
   ]
  },
  {
   "cell_type": "code",
   "execution_count": null,
   "id": "24dfe721-4e95-42bf-8fa4-aec85d183125",
   "metadata": {},
   "outputs": [],
   "source": [
    "_text_list = list(naver.loc[:,0])\n",
    "_label_list = list(naver.loc[:,1])\n"
   ]
  },
  {
   "cell_type": "code",
   "execution_count": null,
   "id": "49523784-a6bc-41e5-8228-7a5c66d98a0c",
   "metadata": {},
   "outputs": [],
   "source": [
    "# # combine and shuffle Naver NER dataset and pseodo-labeled law data\n",
    "new_text = text_list + _text_list\n",
    "new_label = label_list + _label_list\n",
    "\n",
    "import random\n",
    "\n",
    "c = list(zip(new_text, new_label))\n",
    "\n",
    "random.shuffle(c)\n",
    "\n",
    "new_text, new_label = zip(*c)\n"
   ]
  },
  {
   "cell_type": "code",
   "execution_count": null,
   "id": "eb933cb3-5ecb-4a17-ac1d-efec90541da0",
   "metadata": {
    "tags": []
   },
   "outputs": [],
   "source": [
    "# save the combined data\n",
    "combine = pd.DataFrame({\"text\":new_text, \"label\":new_label})\n",
    "combine.to_csv('./combine.tsv',sep='\\t', header=None, index=False)"
   ]
  },
  {
   "cell_type": "code",
   "execution_count": 6,
   "id": "d0646e29-aeed-4418-bb70-9069e88509c6",
   "metadata": {},
   "outputs": [],
   "source": [
    "# Easy Data Augmentation functions(random deletion, random swap)\n",
    "def augment(sentence, labels, num_new_per_technique):\n",
    "    words = sentence.split(\" \")\n",
    "    words = [word for word in words if word != \"\"]\n",
    "    labels = labels.split(\" \")\n",
    "    num_words = len(words)\n",
    "\n",
    "    augmented_sentences = []\n",
    "    augmented_labels = []\n",
    "\n",
    "    RS_ratio = 0.2\n",
    "    RD_ratio = 0.2\n",
    "    n_rs = max(1, int(RS_ratio*num_words))\n",
    "    for _ in range(num_new_per_technique):\n",
    "        a_words, a_labels = random_swap(words, labels, n_rs)\n",
    "        augmented_sentences.append(' '.join(a_words))\n",
    "        augmented_labels.append(' '.join(a_labels))\n",
    "\n",
    "    for _ in range(num_new_per_technique):\n",
    "        a_words, a_labels = random_deletion(words, labels, RD_ratio)\n",
    "        augmented_sentences.append(' '.join(a_words))\n",
    "        augmented_labels.append(' '.join(a_labels))\n",
    "\n",
    "\n",
    "\n",
    "    c = list(zip(augmented_sentences, augmented_labels))\n",
    "\n",
    "    random.shuffle(c)\n",
    "    augmented_sentences, augmented_labels = zip(*c)\n",
    "    \n",
    "\n",
    "    return augmented_sentences, augmented_labels"
   ]
  },
  {
   "cell_type": "code",
   "execution_count": null,
   "id": "91935c30-3c6b-4577-b381-0c324f316bac",
   "metadata": {},
   "outputs": [],
   "source": [
    "# Easy Data Augmentation functions(random deletion, random swap)\n",
    "def random_deletion(words, labels, p):\n",
    "    if len(words) == 1:\n",
    "        return words, labels\n",
    "\n",
    "    new_words = []\n",
    "    new_labels = []\n",
    "    for i, word in enumerate(words):\n",
    "        r = random.uniform(0,1)\n",
    "        if r > p:\n",
    "            new_words.append(word)\n",
    "            new_labels.append(labels[i])\n",
    "\n",
    "    if len(new_words) == 0:\n",
    "        rand_int = random.randint(0, len(words)-1)\n",
    "        return [words[rand_int]], [labels[rand_int]]\n",
    "    # print(\"RD done\")\n",
    "    return new_words, new_labels\n",
    "\n",
    "def random_swap(words, labels, n):\n",
    "    new_words = words.copy()\n",
    "    new_labels = labels.copy()\n",
    "    for _ in range(n):\n",
    "        new_words, new_labels = swap_word(new_words, new_labels)\n",
    "    # print(\"RS done\")\n",
    "    return new_words, new_labels\n",
    "\n",
    "def swap_word(new_words, new_labels):\n",
    "    random_idx_1 = random.randint(0, len(new_words)-1)\n",
    "    random_idx_2 = random_idx_1\n",
    "    counter =0\n",
    "\n",
    "    while random_idx_2 == random_idx_1:\n",
    "        random_idx_2 = random.randint(0, len(new_words)-1)\n",
    "        counter += 1\n",
    "        if counter > 3:\n",
    "            break\n",
    "\n",
    "    new_words[random_idx_1], new_words[random_idx_2] = new_words[random_idx_2], new_words[random_idx_1]\n",
    "    new_labels[random_idx_1], new_labels[random_idx_2] = new_labels[random_idx_2], new_labels[random_idx_1]\n",
    "    return  new_words, new_labels"
   ]
  },
  {
   "cell_type": "code",
   "execution_count": 82,
   "id": "097d5205-aaa0-493f-bfea-a59dda15c530",
   "metadata": {},
   "outputs": [],
   "source": [
    "# augment data by using random deletion and random swap\n",
    "# only augment pseodo-labeled law data to solve data imbalance (Naver NER data is more than 7 times of law data)\n",
    "\n",
    "a_X = text_list\n",
    "a_Y = label_list\n",
    "\n",
    "NUM_AUG = 3\n",
    "for i in range(len(a_X)):\n",
    "    augmented_sentences, augmented_labels = augment(text_list[i], label_list[i], NUM_AUG)\n",
    "    a_X.extend(augmented_sentences)\n",
    "    a_Y.extend(augmented_labels)\n",
    "    \n",
    "c = list(zip(a_X, a_Y))\n",
    "random.shuffle(c)\n",
    "a_X, a_Y = zip(*c)\n",
    "\n",
    "d = {'text':a_X,'label':a_Y}\n",
    "aug_new = pd.DataFrame(d)"
   ]
  },
  {
   "cell_type": "code",
   "execution_count": 83,
   "id": "31489c20-18df-4dd7-b6fa-9aca8242342e",
   "metadata": {},
   "outputs": [],
   "source": [
    "aug_new.to_csv('./data/augment1320_law.tsv',sep='\\t', header=None, index=False)"
   ]
  },
  {
   "cell_type": "code",
   "execution_count": null,
   "id": "339a7d02-2ea4-45d4-9093-0e762ae8ced3",
   "metadata": {},
   "outputs": [],
   "source": [
    "new_text = list(a_X) + _text_list\n",
    "new_label = list(a_Y) + _label_list\n",
    "\n",
    "import random\n",
    "\n",
    "c = list(zip(new_text, new_label))\n",
    "\n",
    "random.shuffle(c)\n",
    "\n",
    "new_text, new_label = zip(*c)\n",
    "\n",
    "augment = pd.DataFrame({\"text\":new_text, \"label\":new_label})\n",
    "augment.to_csv('./augment.tsv',sep='\\t', header=None, index=False)"
   ]
  },
  {
   "cell_type": "code",
   "execution_count": null,
   "id": "ca773ef1-0fec-4443-a64b-428386e6d153",
   "metadata": {},
   "outputs": [],
   "source": []
  }
 ],
 "metadata": {
  "kernelspec": {
   "display_name": "Python 3 (ipykernel)",
   "language": "python",
   "name": "python3"
  },
  "language_info": {
   "codemirror_mode": {
    "name": "ipython",
    "version": 3
   },
   "file_extension": ".py",
   "mimetype": "text/x-python",
   "name": "python",
   "nbconvert_exporter": "python",
   "pygments_lexer": "ipython3",
   "version": "3.8.13"
  }
 },
 "nbformat": 4,
 "nbformat_minor": 5
}
